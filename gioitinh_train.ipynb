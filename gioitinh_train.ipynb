{
  "nbformat": 4,
  "nbformat_minor": 0,
  "metadata": {
    "colab": {
      "name": "gioitinh_train.ipynb",
      "provenance": [],
      "collapsed_sections": [],
      "mount_file_id": "1-myd9GpywPwAZNT_2g2106D-GOyrA0He",
      "authorship_tag": "ABX9TyOc3UUJeOvHQ1CPubYodfxf",
      "include_colab_link": true
    },
    "kernelspec": {
      "name": "python3",
      "display_name": "Python 3"
    },
    "language_info": {
      "name": "python"
    },
    "accelerator": "GPU"
  },
  "cells": [
    {
      "cell_type": "markdown",
      "metadata": {
        "id": "view-in-github",
        "colab_type": "text"
      },
      "source": [
        "<a href=\"https://colab.research.google.com/github/tieubavuongpm92/AI/blob/cuoikiAI/gioitinh_train.ipynb\" target=\"_parent\"><img src=\"https://colab.research.google.com/assets/colab-badge.svg\" alt=\"Open In Colab\"/></a>"
      ]
    },
    {
      "cell_type": "code",
      "execution_count": 5,
      "metadata": {
        "id": "Nk_BQp8SH_1k",
        "colab": {
          "base_uri": "https://localhost:8080/"
        },
        "outputId": "ff3e64fc-1cd5-4805-a546-64c47a090b11"
      },
      "outputs": [
        {
          "output_type": "stream",
          "name": "stdout",
          "text": [
            "Drive already mounted at /content/drive; to attempt to forcibly remount, call drive.mount(\"/content/drive\", force_remount=True).\n"
          ]
        }
      ],
      "source": [
        "from google.colab import drive \n",
        "drive.mount('/content/drive')"
      ]
    },
    {
      "cell_type": "code",
      "source": [
        "from keras import datasets, Sequential\n",
        "from keras.layers import Conv2D, Dense, MaxPooling2D, Flatten\n",
        "from keras.preprocessing import  image\n",
        "from keras.preprocessing.image import load_img, img_to_array,array_to_img,ImageDataGenerator\n",
        "import matplotlib.pyplot as plt\n",
        "import seaborn as sns\n",
        "import numpy as np\n",
        "from numpy import asarray\n",
        "from numpy import save\n",
        "import keras\n",
        "import os\n",
        "from os import listdir\n",
        "import cv2 as cv\n",
        "import tensorflow as tf\n",
        "from tensorflow.keras.optimizers import Adam, SGD\n",
        "from sklearn.model_selection import train_test_split"
      ],
      "metadata": {
        "id": "xwsd4Oi-INZZ"
      },
      "execution_count": 6,
      "outputs": []
    },
    {
      "cell_type": "code",
      "source": [
        "folder = '/content/drive/MyDrive/Colab Notebooks/gioitinh/Training/male' \n",
        "folder1='/content/drive/MyDrive/Colab Notebooks/gioitinh/Training/female'\n",
        "\n",
        "folders=[folder,folder1]\n",
        "photos, labels = list(), list()\n",
        "for i in range (2):\n",
        "  for file in listdir(folders[i]):\n",
        "    output=i\n",
        "\n",
        "    photo = load_img(folders[i]+'/'+file, target_size=(48,48))\n",
        "    photo = img_to_array(photo)\n",
        "    photos.append(photo)\n",
        "    labels.append(output)\n",
        "photos = asarray(photos)\n",
        "labels = asarray(labels)\n",
        "print(photos.shape, labels.shape)\n",
        "save('/content/drive/MyDrive/Colab Notebooks/gioitinh/gender_photos.npy',photos)\n",
        "save('/content/drive/MyDrive/Colab Notebooks/gioitinh/gender_labels.npy',labels)"
      ],
      "metadata": {
        "id": "Y-9jSvYZIO08",
        "colab": {
          "base_uri": "https://localhost:8080/"
        },
        "outputId": "24f6b2c6-b966-453a-a679-4a6c4920caa8"
      },
      "execution_count": 7,
      "outputs": [
        {
          "output_type": "stream",
          "name": "stdout",
          "text": [
            "(47009, 48, 48, 3) (47009,)\n"
          ]
        }
      ]
    },
    {
      "cell_type": "code",
      "source": [
        "x_train, x_test, y_train, y_test = train_test_split(photos, labels, test_size=0.3, random_state=2)\n",
        "x_train /= 255\n",
        "x_test /= 255\n",
        "y_train = keras.utils.np_utils.to_categorical(y_train,10)\n",
        "y_test = keras.utils.np_utils.to_categorical(y_test,10)"
      ],
      "metadata": {
        "id": "kYZVFxmUIR5l"
      },
      "execution_count": 8,
      "outputs": []
    },
    {
      "cell_type": "code",
      "source": [
        "#tạo model\n",
        "model = Sequential()\n",
        "model.add(Conv2D(32,(3,3), activation = 'relu', kernel_initializer='he_uniform',padding='same',input_shape=(48,48,3)))\n",
        "model.add(MaxPooling2D((2,2)))\n",
        "\n",
        "model.add(Conv2D(64,(3,3), activation = 'relu', kernel_initializer='he_uniform',padding='same'))\n",
        "model.add(MaxPooling2D((2,2)))\n",
        "\n",
        "model.add(Conv2D(128,(3,3), activation = 'relu', kernel_initializer='he_uniform',padding='same'))\n",
        "model.add(MaxPooling2D((2,2)))\n",
        "\n",
        "model.add(Conv2D(512,(3,3), activation = 'relu', kernel_initializer='he_uniform',padding='same'))\n",
        "model.add(MaxPooling2D((2,2)))\n",
        "model.add(Flatten())\n",
        "model.add(Dense(512, activation='relu', kernel_initializer='he_uniform'))  #Dense la full connected \n",
        "model.add(Dense(10, activation='Softmax'))\n",
        "model.summary()"
      ],
      "metadata": {
        "id": "aApAvBbzITIa",
        "colab": {
          "base_uri": "https://localhost:8080/"
        },
        "outputId": "266f9af6-a276-4d54-83fb-d64f142fa525"
      },
      "execution_count": 11,
      "outputs": [
        {
          "output_type": "stream",
          "name": "stdout",
          "text": [
            "Model: \"sequential_1\"\n",
            "_________________________________________________________________\n",
            " Layer (type)                Output Shape              Param #   \n",
            "=================================================================\n",
            " conv2d_4 (Conv2D)           (None, 48, 48, 32)        896       \n",
            "                                                                 \n",
            " max_pooling2d_4 (MaxPooling  (None, 24, 24, 32)       0         \n",
            " 2D)                                                             \n",
            "                                                                 \n",
            " conv2d_5 (Conv2D)           (None, 24, 24, 64)        18496     \n",
            "                                                                 \n",
            " max_pooling2d_5 (MaxPooling  (None, 12, 12, 64)       0         \n",
            " 2D)                                                             \n",
            "                                                                 \n",
            " conv2d_6 (Conv2D)           (None, 12, 12, 128)       73856     \n",
            "                                                                 \n",
            " max_pooling2d_6 (MaxPooling  (None, 6, 6, 128)        0         \n",
            " 2D)                                                             \n",
            "                                                                 \n",
            " conv2d_7 (Conv2D)           (None, 6, 6, 512)         590336    \n",
            "                                                                 \n",
            " max_pooling2d_7 (MaxPooling  (None, 3, 3, 512)        0         \n",
            " 2D)                                                             \n",
            "                                                                 \n",
            " flatten_1 (Flatten)         (None, 4608)              0         \n",
            "                                                                 \n",
            " dense_2 (Dense)             (None, 512)               2359808   \n",
            "                                                                 \n",
            " dense_3 (Dense)             (None, 10)                5130      \n",
            "                                                                 \n",
            "=================================================================\n",
            "Total params: 3,048,522\n",
            "Trainable params: 3,048,522\n",
            "Non-trainable params: 0\n",
            "_________________________________________________________________\n"
          ]
        }
      ]
    },
    {
      "cell_type": "code",
      "source": [
        "opt = SGD(lr=0.01, momentum=0.9)\n",
        "model.compile(optimizer=opt,loss='categorical_crossentropy',  metrics=['accuracy'])"
      ],
      "metadata": {
        "id": "PJNwGlc9IV1f",
        "colab": {
          "base_uri": "https://localhost:8080/"
        },
        "outputId": "e8e8d81e-0a8e-42f4-b197-2b7ca6edbaf4"
      },
      "execution_count": 12,
      "outputs": [
        {
          "output_type": "stream",
          "name": "stderr",
          "text": [
            "/usr/local/lib/python3.7/dist-packages/keras/optimizer_v2/gradient_descent.py:102: UserWarning: The `lr` argument is deprecated, use `learning_rate` instead.\n",
            "  super(SGD, self).__init__(name, **kwargs)\n"
          ]
        }
      ]
    },
    {
      "cell_type": "code",
      "source": [
        "history = model.fit(x_train, y_train, batch_size=128, epochs=100, verbose=1,validation_data=(x_test, y_test))"
      ],
      "metadata": {
        "id": "cO2tWifsIXE9",
        "colab": {
          "base_uri": "https://localhost:8080/"
        },
        "outputId": "3574cb09-b73d-4826-dc4e-98c83fa02c62"
      },
      "execution_count": 13,
      "outputs": [
        {
          "output_type": "stream",
          "name": "stdout",
          "text": [
            "Epoch 1/100\n",
            "258/258 [==============================] - 18s 23ms/step - loss: 0.5230 - accuracy: 0.7460 - val_loss: 0.3468 - val_accuracy: 0.8458\n",
            "Epoch 2/100\n",
            "258/258 [==============================] - 5s 20ms/step - loss: 0.1933 - accuracy: 0.9270 - val_loss: 0.1631 - val_accuracy: 0.9414\n",
            "Epoch 3/100\n",
            "258/258 [==============================] - 5s 20ms/step - loss: 0.1409 - accuracy: 0.9508 - val_loss: 0.1473 - val_accuracy: 0.9467\n",
            "Epoch 4/100\n",
            "258/258 [==============================] - 5s 20ms/step - loss: 0.1220 - accuracy: 0.9562 - val_loss: 0.1677 - val_accuracy: 0.9394\n",
            "Epoch 5/100\n",
            "258/258 [==============================] - 5s 20ms/step - loss: 0.1097 - accuracy: 0.9607 - val_loss: 0.1200 - val_accuracy: 0.9576\n",
            "Epoch 6/100\n",
            "258/258 [==============================] - 5s 20ms/step - loss: 0.0988 - accuracy: 0.9654 - val_loss: 0.1344 - val_accuracy: 0.9514\n",
            "Epoch 7/100\n",
            "258/258 [==============================] - 5s 20ms/step - loss: 0.0880 - accuracy: 0.9684 - val_loss: 0.1215 - val_accuracy: 0.9580\n",
            "Epoch 8/100\n",
            "258/258 [==============================] - 6s 22ms/step - loss: 0.0771 - accuracy: 0.9736 - val_loss: 0.1202 - val_accuracy: 0.9574\n",
            "Epoch 9/100\n",
            "258/258 [==============================] - 5s 20ms/step - loss: 0.0672 - accuracy: 0.9763 - val_loss: 0.1233 - val_accuracy: 0.9594\n",
            "Epoch 10/100\n",
            "258/258 [==============================] - 5s 20ms/step - loss: 0.0605 - accuracy: 0.9782 - val_loss: 0.1535 - val_accuracy: 0.9498\n",
            "Epoch 11/100\n",
            "258/258 [==============================] - 6s 22ms/step - loss: 0.0564 - accuracy: 0.9801 - val_loss: 0.1452 - val_accuracy: 0.9531\n",
            "Epoch 12/100\n",
            "258/258 [==============================] - 6s 22ms/step - loss: 0.0501 - accuracy: 0.9825 - val_loss: 0.1658 - val_accuracy: 0.9499\n",
            "Epoch 13/100\n",
            "258/258 [==============================] - 5s 20ms/step - loss: 0.0404 - accuracy: 0.9858 - val_loss: 0.1453 - val_accuracy: 0.9563\n",
            "Epoch 14/100\n",
            "258/258 [==============================] - 5s 20ms/step - loss: 0.0384 - accuracy: 0.9863 - val_loss: 0.1462 - val_accuracy: 0.9576\n",
            "Epoch 15/100\n",
            "258/258 [==============================] - 5s 20ms/step - loss: 0.0278 - accuracy: 0.9905 - val_loss: 0.1539 - val_accuracy: 0.9579\n",
            "Epoch 16/100\n",
            "258/258 [==============================] - 5s 20ms/step - loss: 0.0228 - accuracy: 0.9919 - val_loss: 0.1754 - val_accuracy: 0.9560\n",
            "Epoch 17/100\n",
            "258/258 [==============================] - 5s 20ms/step - loss: 0.0203 - accuracy: 0.9929 - val_loss: 0.1935 - val_accuracy: 0.9515\n",
            "Epoch 18/100\n",
            "258/258 [==============================] - 5s 20ms/step - loss: 0.0157 - accuracy: 0.9947 - val_loss: 0.1914 - val_accuracy: 0.9565\n",
            "Epoch 19/100\n",
            "258/258 [==============================] - 6s 22ms/step - loss: 0.0110 - accuracy: 0.9966 - val_loss: 0.2426 - val_accuracy: 0.9492\n",
            "Epoch 20/100\n",
            "258/258 [==============================] - 5s 20ms/step - loss: 0.0098 - accuracy: 0.9967 - val_loss: 0.1994 - val_accuracy: 0.9558\n",
            "Epoch 21/100\n",
            "258/258 [==============================] - 5s 20ms/step - loss: 0.0034 - accuracy: 0.9993 - val_loss: 0.2305 - val_accuracy: 0.9567\n",
            "Epoch 22/100\n",
            "258/258 [==============================] - 5s 20ms/step - loss: 0.0010 - accuracy: 1.0000 - val_loss: 0.2287 - val_accuracy: 0.9594\n",
            "Epoch 23/100\n",
            "258/258 [==============================] - 5s 20ms/step - loss: 4.2756e-04 - accuracy: 1.0000 - val_loss: 0.2384 - val_accuracy: 0.9587\n",
            "Epoch 24/100\n",
            "258/258 [==============================] - 5s 20ms/step - loss: 2.9998e-04 - accuracy: 1.0000 - val_loss: 0.2427 - val_accuracy: 0.9589\n",
            "Epoch 25/100\n",
            "258/258 [==============================] - 6s 22ms/step - loss: 2.4835e-04 - accuracy: 1.0000 - val_loss: 0.2469 - val_accuracy: 0.9594\n",
            "Epoch 26/100\n",
            "258/258 [==============================] - 5s 20ms/step - loss: 2.1074e-04 - accuracy: 1.0000 - val_loss: 0.2505 - val_accuracy: 0.9591\n",
            "Epoch 27/100\n",
            "258/258 [==============================] - 5s 20ms/step - loss: 1.8500e-04 - accuracy: 1.0000 - val_loss: 0.2541 - val_accuracy: 0.9592\n",
            "Epoch 28/100\n",
            "258/258 [==============================] - 5s 20ms/step - loss: 1.6548e-04 - accuracy: 1.0000 - val_loss: 0.2567 - val_accuracy: 0.9590\n",
            "Epoch 29/100\n",
            "258/258 [==============================] - 6s 22ms/step - loss: 1.5000e-04 - accuracy: 1.0000 - val_loss: 0.2599 - val_accuracy: 0.9593\n",
            "Epoch 30/100\n",
            "258/258 [==============================] - 5s 20ms/step - loss: 1.3741e-04 - accuracy: 1.0000 - val_loss: 0.2622 - val_accuracy: 0.9592\n",
            "Epoch 31/100\n",
            "258/258 [==============================] - 6s 22ms/step - loss: 1.2695e-04 - accuracy: 1.0000 - val_loss: 0.2641 - val_accuracy: 0.9594\n",
            "Epoch 32/100\n",
            "258/258 [==============================] - 5s 20ms/step - loss: 1.1785e-04 - accuracy: 1.0000 - val_loss: 0.2660 - val_accuracy: 0.9593\n",
            "Epoch 33/100\n",
            "258/258 [==============================] - 5s 21ms/step - loss: 1.1020e-04 - accuracy: 1.0000 - val_loss: 0.2681 - val_accuracy: 0.9597\n",
            "Epoch 34/100\n",
            "258/258 [==============================] - 5s 20ms/step - loss: 1.0254e-04 - accuracy: 1.0000 - val_loss: 0.2704 - val_accuracy: 0.9594\n",
            "Epoch 35/100\n",
            "258/258 [==============================] - 5s 20ms/step - loss: 9.7025e-05 - accuracy: 1.0000 - val_loss: 0.2717 - val_accuracy: 0.9592\n",
            "Epoch 36/100\n",
            "258/258 [==============================] - 5s 20ms/step - loss: 9.1408e-05 - accuracy: 1.0000 - val_loss: 0.2735 - val_accuracy: 0.9598\n",
            "Epoch 37/100\n",
            "258/258 [==============================] - 6s 22ms/step - loss: 8.6734e-05 - accuracy: 1.0000 - val_loss: 0.2750 - val_accuracy: 0.9594\n",
            "Epoch 38/100\n",
            "258/258 [==============================] - 5s 20ms/step - loss: 8.2129e-05 - accuracy: 1.0000 - val_loss: 0.2765 - val_accuracy: 0.9592\n",
            "Epoch 39/100\n",
            "258/258 [==============================] - 5s 20ms/step - loss: 7.7800e-05 - accuracy: 1.0000 - val_loss: 0.2778 - val_accuracy: 0.9591\n",
            "Epoch 40/100\n",
            "258/258 [==============================] - 6s 22ms/step - loss: 7.4690e-05 - accuracy: 1.0000 - val_loss: 0.2792 - val_accuracy: 0.9592\n",
            "Epoch 41/100\n",
            "258/258 [==============================] - 5s 20ms/step - loss: 7.1107e-05 - accuracy: 1.0000 - val_loss: 0.2805 - val_accuracy: 0.9593\n",
            "Epoch 42/100\n",
            "258/258 [==============================] - 5s 20ms/step - loss: 6.8619e-05 - accuracy: 1.0000 - val_loss: 0.2816 - val_accuracy: 0.9594\n",
            "Epoch 43/100\n",
            "258/258 [==============================] - 5s 20ms/step - loss: 6.5787e-05 - accuracy: 1.0000 - val_loss: 0.2830 - val_accuracy: 0.9592\n",
            "Epoch 44/100\n",
            "258/258 [==============================] - 5s 20ms/step - loss: 6.2977e-05 - accuracy: 1.0000 - val_loss: 0.2840 - val_accuracy: 0.9589\n",
            "Epoch 45/100\n",
            "258/258 [==============================] - 5s 20ms/step - loss: 6.0568e-05 - accuracy: 1.0000 - val_loss: 0.2853 - val_accuracy: 0.9593\n",
            "Epoch 46/100\n",
            "258/258 [==============================] - 5s 20ms/step - loss: 5.8382e-05 - accuracy: 1.0000 - val_loss: 0.2863 - val_accuracy: 0.9592\n",
            "Epoch 47/100\n",
            "258/258 [==============================] - 5s 20ms/step - loss: 5.6772e-05 - accuracy: 1.0000 - val_loss: 0.2874 - val_accuracy: 0.9592\n",
            "Epoch 48/100\n",
            "258/258 [==============================] - 6s 22ms/step - loss: 5.4396e-05 - accuracy: 1.0000 - val_loss: 0.2883 - val_accuracy: 0.9593\n",
            "Epoch 49/100\n",
            "258/258 [==============================] - 5s 20ms/step - loss: 5.2530e-05 - accuracy: 1.0000 - val_loss: 0.2895 - val_accuracy: 0.9594\n",
            "Epoch 50/100\n",
            "258/258 [==============================] - 6s 22ms/step - loss: 5.1008e-05 - accuracy: 1.0000 - val_loss: 0.2904 - val_accuracy: 0.9592\n",
            "Epoch 51/100\n",
            "258/258 [==============================] - 5s 21ms/step - loss: 4.9368e-05 - accuracy: 1.0000 - val_loss: 0.2913 - val_accuracy: 0.9590\n",
            "Epoch 52/100\n",
            "258/258 [==============================] - 6s 22ms/step - loss: 4.7878e-05 - accuracy: 1.0000 - val_loss: 0.2922 - val_accuracy: 0.9592\n",
            "Epoch 53/100\n",
            "258/258 [==============================] - 5s 20ms/step - loss: 4.6487e-05 - accuracy: 1.0000 - val_loss: 0.2930 - val_accuracy: 0.9589\n",
            "Epoch 54/100\n",
            "258/258 [==============================] - 6s 22ms/step - loss: 4.5155e-05 - accuracy: 1.0000 - val_loss: 0.2939 - val_accuracy: 0.9589\n",
            "Epoch 55/100\n",
            "258/258 [==============================] - 5s 20ms/step - loss: 4.3817e-05 - accuracy: 1.0000 - val_loss: 0.2949 - val_accuracy: 0.9595\n",
            "Epoch 56/100\n",
            "258/258 [==============================] - 6s 22ms/step - loss: 4.2638e-05 - accuracy: 1.0000 - val_loss: 0.2956 - val_accuracy: 0.9588\n",
            "Epoch 57/100\n",
            "258/258 [==============================] - 5s 21ms/step - loss: 4.1538e-05 - accuracy: 1.0000 - val_loss: 0.2964 - val_accuracy: 0.9587\n",
            "Epoch 58/100\n",
            "258/258 [==============================] - 5s 20ms/step - loss: 4.0471e-05 - accuracy: 1.0000 - val_loss: 0.2971 - val_accuracy: 0.9590\n",
            "Epoch 59/100\n",
            "258/258 [==============================] - 6s 22ms/step - loss: 3.9489e-05 - accuracy: 1.0000 - val_loss: 0.2979 - val_accuracy: 0.9592\n",
            "Epoch 60/100\n",
            "258/258 [==============================] - 5s 20ms/step - loss: 3.8460e-05 - accuracy: 1.0000 - val_loss: 0.2985 - val_accuracy: 0.9592\n",
            "Epoch 61/100\n",
            "258/258 [==============================] - 6s 22ms/step - loss: 3.7550e-05 - accuracy: 1.0000 - val_loss: 0.2993 - val_accuracy: 0.9591\n",
            "Epoch 62/100\n",
            "258/258 [==============================] - 6s 22ms/step - loss: 3.6597e-05 - accuracy: 1.0000 - val_loss: 0.3001 - val_accuracy: 0.9587\n",
            "Epoch 63/100\n",
            "258/258 [==============================] - 5s 20ms/step - loss: 3.5774e-05 - accuracy: 1.0000 - val_loss: 0.3007 - val_accuracy: 0.9594\n",
            "Epoch 64/100\n",
            "258/258 [==============================] - 6s 22ms/step - loss: 3.4986e-05 - accuracy: 1.0000 - val_loss: 0.3014 - val_accuracy: 0.9589\n",
            "Epoch 65/100\n",
            "258/258 [==============================] - 5s 20ms/step - loss: 3.4191e-05 - accuracy: 1.0000 - val_loss: 0.3020 - val_accuracy: 0.9592\n",
            "Epoch 66/100\n",
            "258/258 [==============================] - 5s 20ms/step - loss: 3.3452e-05 - accuracy: 1.0000 - val_loss: 0.3027 - val_accuracy: 0.9589\n",
            "Epoch 67/100\n",
            "258/258 [==============================] - 5s 21ms/step - loss: 3.2668e-05 - accuracy: 1.0000 - val_loss: 0.3034 - val_accuracy: 0.9590\n",
            "Epoch 68/100\n",
            "258/258 [==============================] - 5s 20ms/step - loss: 3.1948e-05 - accuracy: 1.0000 - val_loss: 0.3041 - val_accuracy: 0.9594\n",
            "Epoch 69/100\n",
            "258/258 [==============================] - 5s 21ms/step - loss: 3.1394e-05 - accuracy: 1.0000 - val_loss: 0.3047 - val_accuracy: 0.9591\n",
            "Epoch 70/100\n",
            "258/258 [==============================] - 5s 20ms/step - loss: 3.0707e-05 - accuracy: 1.0000 - val_loss: 0.3053 - val_accuracy: 0.9592\n",
            "Epoch 71/100\n",
            "258/258 [==============================] - 5s 20ms/step - loss: 3.0037e-05 - accuracy: 1.0000 - val_loss: 0.3060 - val_accuracy: 0.9591\n",
            "Epoch 72/100\n",
            "258/258 [==============================] - 5s 20ms/step - loss: 2.9445e-05 - accuracy: 1.0000 - val_loss: 0.3065 - val_accuracy: 0.9592\n",
            "Epoch 73/100\n",
            "258/258 [==============================] - 6s 22ms/step - loss: 2.8912e-05 - accuracy: 1.0000 - val_loss: 0.3070 - val_accuracy: 0.9591\n",
            "Epoch 74/100\n",
            "258/258 [==============================] - 5s 20ms/step - loss: 2.8354e-05 - accuracy: 1.0000 - val_loss: 0.3076 - val_accuracy: 0.9590\n",
            "Epoch 75/100\n",
            "258/258 [==============================] - 5s 20ms/step - loss: 2.7835e-05 - accuracy: 1.0000 - val_loss: 0.3082 - val_accuracy: 0.9590\n",
            "Epoch 76/100\n",
            "258/258 [==============================] - 6s 22ms/step - loss: 2.7297e-05 - accuracy: 1.0000 - val_loss: 0.3089 - val_accuracy: 0.9588\n",
            "Epoch 77/100\n",
            "258/258 [==============================] - 5s 20ms/step - loss: 2.6991e-05 - accuracy: 1.0000 - val_loss: 0.3093 - val_accuracy: 0.9589\n",
            "Epoch 78/100\n",
            "258/258 [==============================] - 5s 21ms/step - loss: 2.6376e-05 - accuracy: 1.0000 - val_loss: 0.3099 - val_accuracy: 0.9590\n",
            "Epoch 79/100\n",
            "258/258 [==============================] - 6s 22ms/step - loss: 2.5873e-05 - accuracy: 1.0000 - val_loss: 0.3104 - val_accuracy: 0.9589\n",
            "Epoch 80/100\n",
            "258/258 [==============================] - 5s 21ms/step - loss: 2.5442e-05 - accuracy: 1.0000 - val_loss: 0.3110 - val_accuracy: 0.9589\n",
            "Epoch 81/100\n",
            "258/258 [==============================] - 5s 21ms/step - loss: 2.5016e-05 - accuracy: 1.0000 - val_loss: 0.3115 - val_accuracy: 0.9588\n",
            "Epoch 82/100\n",
            "258/258 [==============================] - 6s 22ms/step - loss: 2.4554e-05 - accuracy: 1.0000 - val_loss: 0.3120 - val_accuracy: 0.9588\n",
            "Epoch 83/100\n",
            "258/258 [==============================] - 5s 21ms/step - loss: 2.4177e-05 - accuracy: 1.0000 - val_loss: 0.3125 - val_accuracy: 0.9589\n",
            "Epoch 84/100\n",
            "258/258 [==============================] - 5s 21ms/step - loss: 2.3805e-05 - accuracy: 1.0000 - val_loss: 0.3130 - val_accuracy: 0.9589\n",
            "Epoch 85/100\n",
            "258/258 [==============================] - 5s 21ms/step - loss: 2.3408e-05 - accuracy: 1.0000 - val_loss: 0.3136 - val_accuracy: 0.9589\n",
            "Epoch 86/100\n",
            "258/258 [==============================] - 5s 20ms/step - loss: 2.3009e-05 - accuracy: 1.0000 - val_loss: 0.3140 - val_accuracy: 0.9589\n",
            "Epoch 87/100\n",
            "258/258 [==============================] - 5s 21ms/step - loss: 2.2711e-05 - accuracy: 1.0000 - val_loss: 0.3145 - val_accuracy: 0.9589\n",
            "Epoch 88/100\n",
            "258/258 [==============================] - 5s 21ms/step - loss: 2.2376e-05 - accuracy: 1.0000 - val_loss: 0.3150 - val_accuracy: 0.9589\n",
            "Epoch 89/100\n",
            "258/258 [==============================] - 5s 21ms/step - loss: 2.2037e-05 - accuracy: 1.0000 - val_loss: 0.3154 - val_accuracy: 0.9588\n",
            "Epoch 90/100\n",
            "258/258 [==============================] - 6s 23ms/step - loss: 2.1663e-05 - accuracy: 1.0000 - val_loss: 0.3159 - val_accuracy: 0.9589\n",
            "Epoch 91/100\n",
            "258/258 [==============================] - 5s 20ms/step - loss: 2.1386e-05 - accuracy: 1.0000 - val_loss: 0.3163 - val_accuracy: 0.9589\n",
            "Epoch 92/100\n",
            "258/258 [==============================] - 5s 21ms/step - loss: 2.0974e-05 - accuracy: 1.0000 - val_loss: 0.3168 - val_accuracy: 0.9590\n",
            "Epoch 93/100\n",
            "258/258 [==============================] - 5s 20ms/step - loss: 2.0724e-05 - accuracy: 1.0000 - val_loss: 0.3173 - val_accuracy: 0.9590\n",
            "Epoch 94/100\n",
            "258/258 [==============================] - 5s 21ms/step - loss: 2.0487e-05 - accuracy: 1.0000 - val_loss: 0.3177 - val_accuracy: 0.9590\n",
            "Epoch 95/100\n",
            "258/258 [==============================] - 5s 21ms/step - loss: 2.0151e-05 - accuracy: 1.0000 - val_loss: 0.3181 - val_accuracy: 0.9589\n",
            "Epoch 96/100\n",
            "258/258 [==============================] - 5s 21ms/step - loss: 1.9901e-05 - accuracy: 1.0000 - val_loss: 0.3186 - val_accuracy: 0.9589\n",
            "Epoch 97/100\n",
            "258/258 [==============================] - 5s 21ms/step - loss: 1.9592e-05 - accuracy: 1.0000 - val_loss: 0.3189 - val_accuracy: 0.9589\n",
            "Epoch 98/100\n",
            "258/258 [==============================] - 5s 21ms/step - loss: 1.9357e-05 - accuracy: 1.0000 - val_loss: 0.3194 - val_accuracy: 0.9590\n",
            "Epoch 99/100\n",
            "258/258 [==============================] - 5s 21ms/step - loss: 1.9078e-05 - accuracy: 1.0000 - val_loss: 0.3198 - val_accuracy: 0.9590\n",
            "Epoch 100/100\n",
            "258/258 [==============================] - 5s 21ms/step - loss: 1.8834e-05 - accuracy: 1.0000 - val_loss: 0.3201 - val_accuracy: 0.9587\n"
          ]
        }
      ]
    },
    {
      "cell_type": "code",
      "source": [
        "plt.plot(history.history['accuracy'])\n",
        "plt.plot(history.history['val_accuracy'])\n",
        "\n",
        "plt.title('Model Accuracy')\n",
        "plt.xlabel('epoch')\n",
        "plt.legend(['Train','Valition'], loc='upper left')\n",
        "plt.show()"
      ],
      "metadata": {
        "id": "60DlVossIYnZ",
        "colab": {
          "base_uri": "https://localhost:8080/",
          "height": 295
        },
        "outputId": "07a5922e-bdbc-4590-bda6-711a40666b1c"
      },
      "execution_count": 14,
      "outputs": [
        {
          "output_type": "display_data",
          "data": {
            "text/plain": [
              "<Figure size 432x288 with 1 Axes>"
            ],
            "image/png": "[encoded data removed]"
          },
          "metadata": {
            "needs_background": "light"
          }
        }
      ]
    },
    {
      "cell_type": "code",
      "source": [
        "model.save('/content/drive/MyDrive/Colab Notebooks/gioitinh/gender_model.h5')"
      ],
      "metadata": {
        "id": "GgH1tMU-IbAS"
      },
      "execution_count": 15,
      "outputs": []
    }
  ]
}