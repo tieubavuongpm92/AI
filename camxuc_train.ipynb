{
  "nbformat": 4,
  "nbformat_minor": 0,
  "metadata": {
    "colab": {
      "name": "camxuc_train.ipynb",
      "provenance": [],
      "collapsed_sections": [],
      "mount_file_id": "19qUE7najeWP-YUgH4vpMextAI8rizZPx",
      "authorship_tag": "ABX9TyO4NzdSAlrMK55jJOQqfhbq",
      "include_colab_link": true
    },
    "kernelspec": {
      "name": "python3",
      "display_name": "Python 3"
    },
    "language_info": {
      "name": "python"
    },
    "accelerator": "GPU"
  },
  "cells": [
    {
      "cell_type": "markdown",
      "metadata": {
        "id": "view-in-github",
        "colab_type": "text"
      },
      "source": [
        "<a href=\"https://colab.research.google.com/github/tieubavuongpm92/AI/blob/cuoikiAI/camxuc_train.ipynb\" target=\"_parent\"><img src=\"https://colab.research.google.com/assets/colab-badge.svg\" alt=\"Open In Colab\"/></a>"
      ]
    },
    {
      "cell_type": "code",
      "execution_count": null,
      "metadata": {
        "id": "qip6uE_UIfK_"
      },
      "outputs": [],
      "source": [
        "from google.colab import drive \n",
        "drive.mount('/content/drive')"
      ]
    },
    {
      "cell_type": "code",
      "source": [
        "from google.colab import drive\n",
        "drive.mount('/content/drive')"
      ],
      "metadata": {
        "colab": {
          "base_uri": "https://localhost:8080/"
        },
        "id": "90nSld4XA5pJ",
        "outputId": "34d2aa62-b821-4740-cd5e-0820ebe414bc"
      },
      "execution_count": 1,
      "outputs": [
        {
          "output_type": "stream",
          "name": "stdout",
          "text": [
            "Drive already mounted at /content/drive; to attempt to forcibly remount, call drive.mount(\"/content/drive\", force_remount=True).\n"
          ]
        }
      ]
    },
    {
      "cell_type": "code",
      "source": [
        "from keras import datasets, Sequential\n",
        "from keras.layers import Conv2D, Dense, MaxPooling2D, Flatten\n",
        "from keras.preprocessing import  image\n",
        "from keras.preprocessing.image import load_img, img_to_array,array_to_img,ImageDataGenerator\n",
        "import matplotlib.pyplot as plt\n",
        "import seaborn as sns\n",
        "import numpy as np\n",
        "from numpy import asarray\n",
        "from numpy import save\n",
        "import keras\n",
        "import os\n",
        "from os import listdir\n",
        "import cv2 as cv\n",
        "import tensorflow as tf\n",
        "from tensorflow.keras.optimizers import Adam, SGD\n",
        "from sklearn.model_selection import train_test_split"
      ],
      "metadata": {
        "id": "NWzB_FuQIkig"
      },
      "execution_count": 2,
      "outputs": []
    },
    {
      "cell_type": "code",
      "source": [
        "folder  = '/content/drive/MyDrive/Colab Notebooks/camxuc/train/angry'\n",
        "folder1 = '/content/drive/MyDrive/Colab Notebooks/camxuc/train/disgusted'\n",
        "folder2 = '/content/drive/MyDrive/Colab Notebooks/camxuc/train/fearful'\n",
        "folder3 = '/content/drive/MyDrive/Colab Notebooks/camxuc/train/happy'\n",
        "folder4 = '/content/drive/MyDrive/Colab Notebooks/camxuc/train/neutral'\n",
        "folder5 = '/content/drive/MyDrive/Colab Notebooks/camxuc/train/sad'\n",
        "folder6 = '/content/drive/MyDrive/Colab Notebooks/camxuc/train/surprised'\n",
        "folders=[folder,folder1,folder2,folder3,folder4,folder5,folder6]\n",
        "photos, labels = list(), list()\n",
        "for i in range (7):\n",
        "  for file in listdir(folders[i]):\n",
        "    output=i\n",
        "\n",
        "    photo = load_img(folders[i]+'/'+file, target_size=(48,48))\n",
        "    photo = img_to_array(photo)\n",
        "    photos.append(photo)\n",
        "    labels.append(output)\n",
        "photos = asarray(photos)\n",
        "labels = asarray(labels)\n",
        "print(photos.shape, labels.shape)\n",
        "save('/content/drive/MyDrive/Colab Notebooks/camxuc/emotion_photos.npy',photos)\n",
        "save('/content/drive/MyDrive/Colab Notebooks/camxuc/emotion_labels.npy',labels)"
      ],
      "metadata": {
        "id": "EilkZDOlImJ-",
        "colab": {
          "base_uri": "https://localhost:8080/"
        },
        "outputId": "7040c521-04fe-495c-9e4a-bbec1035ee60"
      },
      "execution_count": 3,
      "outputs": [
        {
          "output_type": "stream",
          "name": "stdout",
          "text": [
            "(28709, 48, 48, 3) (28709,)\n"
          ]
        }
      ]
    },
    {
      "cell_type": "code",
      "source": [
        "x_train, x_test, y_train, y_test = train_test_split(photos, labels, test_size=0.3, random_state=2)\n",
        "x_train /= 255\n",
        "x_test /= 255\n",
        "y_train = keras.utils.np_utils.to_categorical(y_train)\n",
        "y_test = keras.utils.np_utils.to_categorical(y_test)"
      ],
      "metadata": {
        "id": "wvclgUoDIpzs"
      },
      "execution_count": 4,
      "outputs": []
    },
    {
      "cell_type": "code",
      "source": [
        "#tạo model\n",
        "model = Sequential()\n",
        "model.add(Conv2D(32,(3,3), activation = 'relu', kernel_initializer='he_uniform',padding='same',input_shape=(48,48,3)))\n",
        "model.add(MaxPooling2D((2,2)))\n",
        "\n",
        "model.add(Conv2D(64,(3,3), activation = 'relu', kernel_initializer='he_uniform',padding='same'))\n",
        "model.add(MaxPooling2D((2,2)))\n",
        "\n",
        "model.add(Conv2D(128,(3,3), activation = 'relu', kernel_initializer='he_uniform',padding='same'))\n",
        "model.add(MaxPooling2D((2,2)))\n",
        "\n",
        "model.add(Conv2D(512,(3,3), activation = 'relu', kernel_initializer='he_uniform',padding='same'))\n",
        "model.add(MaxPooling2D((2,2)))\n",
        "model.add(Flatten())\n",
        "model.add(Dense(512, activation='relu', kernel_initializer='he_uniform'))  #Dense la full connected \n",
        "model.add(Dense(7, activation='Softmax'))\n",
        "model.summary()"
      ],
      "metadata": {
        "id": "CtyTgzpUIq96",
        "colab": {
          "base_uri": "https://localhost:8080/"
        },
        "outputId": "9952886c-e9c3-40e6-cf6e-7ec928ebc33f"
      },
      "execution_count": 5,
      "outputs": [
        {
          "output_type": "stream",
          "name": "stdout",
          "text": [
            "Model: \"sequential\"\n",
            "_________________________________________________________________\n",
            " Layer (type)                Output Shape              Param #   \n",
            "=================================================================\n",
            " conv2d (Conv2D)             (None, 48, 48, 32)        896       \n",
            "                                                                 \n",
            " max_pooling2d (MaxPooling2D  (None, 24, 24, 32)       0         \n",
            " )                                                               \n",
            "                                                                 \n",
            " conv2d_1 (Conv2D)           (None, 24, 24, 64)        18496     \n",
            "                                                                 \n",
            " max_pooling2d_1 (MaxPooling  (None, 12, 12, 64)       0         \n",
            " 2D)                                                             \n",
            "                                                                 \n",
            " conv2d_2 (Conv2D)           (None, 12, 12, 128)       73856     \n",
            "                                                                 \n",
            " max_pooling2d_2 (MaxPooling  (None, 6, 6, 128)        0         \n",
            " 2D)                                                             \n",
            "                                                                 \n",
            " conv2d_3 (Conv2D)           (None, 6, 6, 512)         590336    \n",
            "                                                                 \n",
            " max_pooling2d_3 (MaxPooling  (None, 3, 3, 512)        0         \n",
            " 2D)                                                             \n",
            "                                                                 \n",
            " flatten (Flatten)           (None, 4608)              0         \n",
            "                                                                 \n",
            " dense (Dense)               (None, 512)               2359808   \n",
            "                                                                 \n",
            " dense_1 (Dense)             (None, 7)                 3591      \n",
            "                                                                 \n",
            "=================================================================\n",
            "Total params: 3,046,983\n",
            "Trainable params: 3,046,983\n",
            "Non-trainable params: 0\n",
            "_________________________________________________________________\n"
          ]
        }
      ]
    },
    {
      "cell_type": "code",
      "source": [
        "opt = SGD(lr=0.01, momentum=0.9)\n",
        "model.compile(optimizer=opt,loss='categorical_crossentropy',  metrics=['accuracy'])"
      ],
      "metadata": {
        "id": "q2uSL07yItks",
        "colab": {
          "base_uri": "https://localhost:8080/"
        },
        "outputId": "86e4ec65-97fb-45ac-efb1-5a7e07a79415"
      },
      "execution_count": 6,
      "outputs": [
        {
          "output_type": "stream",
          "name": "stderr",
          "text": [
            "/usr/local/lib/python3.7/dist-packages/keras/optimizer_v2/gradient_descent.py:102: UserWarning: The `lr` argument is deprecated, use `learning_rate` instead.\n",
            "  super(SGD, self).__init__(name, **kwargs)\n"
          ]
        }
      ]
    },
    {
      "cell_type": "code",
      "source": [
        "history = model.fit(x_train, y_train, batch_size=128, epochs=100, verbose=1,validation_data=(x_test, y_test))"
      ],
      "metadata": {
        "id": "izWOBAHHIu4J",
        "colab": {
          "base_uri": "https://localhost:8080/"
        },
        "outputId": "76ee6564-a5db-4d6e-a48b-926028faeac6"
      },
      "execution_count": 7,
      "outputs": [
        {
          "output_type": "stream",
          "name": "stdout",
          "text": [
            "Epoch 1/100\n",
            "157/157 [==============================] - 16s 25ms/step - loss: 1.8810 - accuracy: 0.2500 - val_loss: 1.7734 - val_accuracy: 0.2632\n",
            "Epoch 2/100\n",
            "157/157 [==============================] - 3s 21ms/step - loss: 1.7272 - accuracy: 0.2991 - val_loss: 1.6910 - val_accuracy: 0.3469\n",
            "Epoch 3/100\n",
            "157/157 [==============================] - 3s 20ms/step - loss: 1.5998 - accuracy: 0.3754 - val_loss: 1.5389 - val_accuracy: 0.4150\n",
            "Epoch 4/100\n",
            "157/157 [==============================] - 3s 19ms/step - loss: 1.4832 - accuracy: 0.4327 - val_loss: 1.4768 - val_accuracy: 0.4334\n",
            "Epoch 5/100\n",
            "157/157 [==============================] - 3s 19ms/step - loss: 1.3850 - accuracy: 0.4731 - val_loss: 1.4165 - val_accuracy: 0.4563\n",
            "Epoch 6/100\n",
            "157/157 [==============================] - 3s 20ms/step - loss: 1.2897 - accuracy: 0.5121 - val_loss: 1.3597 - val_accuracy: 0.4876\n",
            "Epoch 7/100\n",
            "157/157 [==============================] - 3s 20ms/step - loss: 1.1936 - accuracy: 0.5536 - val_loss: 1.3105 - val_accuracy: 0.5046\n",
            "Epoch 8/100\n",
            "157/157 [==============================] - 3s 21ms/step - loss: 1.1147 - accuracy: 0.5842 - val_loss: 1.3277 - val_accuracy: 0.4948\n",
            "Epoch 9/100\n",
            "157/157 [==============================] - 3s 20ms/step - loss: 1.0294 - accuracy: 0.6158 - val_loss: 1.2976 - val_accuracy: 0.5314\n",
            "Epoch 10/100\n",
            "157/157 [==============================] - 3s 19ms/step - loss: 0.9317 - accuracy: 0.6533 - val_loss: 1.3096 - val_accuracy: 0.5300\n",
            "Epoch 11/100\n",
            "157/157 [==============================] - 3s 19ms/step - loss: 0.8200 - accuracy: 0.6979 - val_loss: 1.3403 - val_accuracy: 0.5271\n",
            "Epoch 12/100\n",
            "157/157 [==============================] - 3s 20ms/step - loss: 0.7230 - accuracy: 0.7297 - val_loss: 1.3818 - val_accuracy: 0.5320\n",
            "Epoch 13/100\n",
            "157/157 [==============================] - 3s 20ms/step - loss: 0.6117 - accuracy: 0.7817 - val_loss: 1.6345 - val_accuracy: 0.4969\n",
            "Epoch 14/100\n",
            "157/157 [==============================] - 3s 20ms/step - loss: 0.5077 - accuracy: 0.8152 - val_loss: 1.6137 - val_accuracy: 0.5217\n",
            "Epoch 15/100\n",
            "157/157 [==============================] - 3s 19ms/step - loss: 0.3978 - accuracy: 0.8570 - val_loss: 1.9737 - val_accuracy: 0.4938\n",
            "Epoch 16/100\n",
            "157/157 [==============================] - 3s 19ms/step - loss: 0.2981 - accuracy: 0.8964 - val_loss: 2.1170 - val_accuracy: 0.5264\n",
            "Epoch 17/100\n",
            "157/157 [==============================] - 3s 20ms/step - loss: 0.2797 - accuracy: 0.9016 - val_loss: 2.1522 - val_accuracy: 0.5129\n",
            "Epoch 18/100\n",
            "157/157 [==============================] - 3s 20ms/step - loss: 0.2356 - accuracy: 0.9168 - val_loss: 2.2627 - val_accuracy: 0.5096\n",
            "Epoch 19/100\n",
            "157/157 [==============================] - 3s 20ms/step - loss: 0.1564 - accuracy: 0.9467 - val_loss: 2.6949 - val_accuracy: 0.5017\n",
            "Epoch 20/100\n",
            "157/157 [==============================] - 3s 20ms/step - loss: 0.1502 - accuracy: 0.9489 - val_loss: 2.6121 - val_accuracy: 0.5188\n",
            "Epoch 21/100\n",
            "157/157 [==============================] - 3s 21ms/step - loss: 0.1178 - accuracy: 0.9634 - val_loss: 2.6684 - val_accuracy: 0.5206\n",
            "Epoch 22/100\n",
            "157/157 [==============================] - 3s 20ms/step - loss: 0.0931 - accuracy: 0.9724 - val_loss: 2.8263 - val_accuracy: 0.5328\n",
            "Epoch 23/100\n",
            "157/157 [==============================] - 3s 20ms/step - loss: 0.0688 - accuracy: 0.9799 - val_loss: 2.8657 - val_accuracy: 0.5204\n",
            "Epoch 24/100\n",
            "157/157 [==============================] - 3s 20ms/step - loss: 0.0549 - accuracy: 0.9852 - val_loss: 3.0938 - val_accuracy: 0.5372\n",
            "Epoch 25/100\n",
            "157/157 [==============================] - 3s 20ms/step - loss: 0.0654 - accuracy: 0.9807 - val_loss: 2.9331 - val_accuracy: 0.5287\n",
            "Epoch 26/100\n",
            "157/157 [==============================] - 3s 21ms/step - loss: 0.0653 - accuracy: 0.9807 - val_loss: 3.0464 - val_accuracy: 0.5391\n",
            "Epoch 27/100\n",
            "157/157 [==============================] - 3s 20ms/step - loss: 0.0512 - accuracy: 0.9855 - val_loss: 3.1002 - val_accuracy: 0.5269\n",
            "Epoch 28/100\n",
            "157/157 [==============================] - 3s 21ms/step - loss: 0.0507 - accuracy: 0.9857 - val_loss: 3.2146 - val_accuracy: 0.5318\n",
            "Epoch 29/100\n",
            "157/157 [==============================] - 3s 20ms/step - loss: 0.0364 - accuracy: 0.9908 - val_loss: 3.2263 - val_accuracy: 0.5309\n",
            "Epoch 30/100\n",
            "157/157 [==============================] - 3s 20ms/step - loss: 0.0420 - accuracy: 0.9885 - val_loss: 3.4481 - val_accuracy: 0.5401\n",
            "Epoch 31/100\n",
            "157/157 [==============================] - 3s 20ms/step - loss: 0.0306 - accuracy: 0.9921 - val_loss: 3.4151 - val_accuracy: 0.5327\n",
            "Epoch 32/100\n",
            "157/157 [==============================] - 3s 20ms/step - loss: 0.0216 - accuracy: 0.9957 - val_loss: 3.3020 - val_accuracy: 0.5343\n",
            "Epoch 33/100\n",
            "157/157 [==============================] - 3s 21ms/step - loss: 0.0192 - accuracy: 0.9963 - val_loss: 3.2350 - val_accuracy: 0.5380\n",
            "Epoch 34/100\n",
            "157/157 [==============================] - 3s 20ms/step - loss: 0.0155 - accuracy: 0.9972 - val_loss: 3.3534 - val_accuracy: 0.5456\n",
            "Epoch 35/100\n",
            "157/157 [==============================] - 3s 20ms/step - loss: 0.0122 - accuracy: 0.9978 - val_loss: 3.1455 - val_accuracy: 0.5481\n",
            "Epoch 36/100\n",
            "157/157 [==============================] - 3s 20ms/step - loss: 0.0099 - accuracy: 0.9980 - val_loss: 3.2277 - val_accuracy: 0.5458\n",
            "Epoch 37/100\n",
            "157/157 [==============================] - 3s 20ms/step - loss: 0.0095 - accuracy: 0.9979 - val_loss: 3.1339 - val_accuracy: 0.5511\n",
            "Epoch 38/100\n",
            "157/157 [==============================] - 3s 20ms/step - loss: 0.0091 - accuracy: 0.9978 - val_loss: 3.2958 - val_accuracy: 0.5444\n",
            "Epoch 39/100\n",
            "157/157 [==============================] - 3s 20ms/step - loss: 0.0072 - accuracy: 0.9982 - val_loss: 3.1168 - val_accuracy: 0.5503\n",
            "Epoch 40/100\n",
            "157/157 [==============================] - 3s 20ms/step - loss: 0.0086 - accuracy: 0.9978 - val_loss: 3.2680 - val_accuracy: 0.5496\n",
            "Epoch 41/100\n",
            "157/157 [==============================] - 3s 20ms/step - loss: 0.0087 - accuracy: 0.9979 - val_loss: 3.1284 - val_accuracy: 0.5459\n",
            "Epoch 42/100\n",
            "157/157 [==============================] - 3s 20ms/step - loss: 0.0082 - accuracy: 0.9979 - val_loss: 3.1469 - val_accuracy: 0.5467\n",
            "Epoch 43/100\n",
            "157/157 [==============================] - 3s 20ms/step - loss: 0.0066 - accuracy: 0.9981 - val_loss: 3.1169 - val_accuracy: 0.5523\n",
            "Epoch 44/100\n",
            "157/157 [==============================] - 3s 20ms/step - loss: 0.0074 - accuracy: 0.9979 - val_loss: 3.1559 - val_accuracy: 0.5511\n",
            "Epoch 45/100\n",
            "157/157 [==============================] - 3s 21ms/step - loss: 0.0065 - accuracy: 0.9980 - val_loss: 3.1120 - val_accuracy: 0.5467\n",
            "Epoch 46/100\n",
            "157/157 [==============================] - 3s 20ms/step - loss: 0.0074 - accuracy: 0.9979 - val_loss: 3.1923 - val_accuracy: 0.5408\n",
            "Epoch 47/100\n",
            "157/157 [==============================] - 3s 20ms/step - loss: 0.0064 - accuracy: 0.9981 - val_loss: 3.1765 - val_accuracy: 0.5500\n",
            "Epoch 48/100\n",
            "157/157 [==============================] - 3s 21ms/step - loss: 0.0065 - accuracy: 0.9981 - val_loss: 3.1732 - val_accuracy: 0.5507\n",
            "Epoch 49/100\n",
            "157/157 [==============================] - 3s 20ms/step - loss: 0.0062 - accuracy: 0.9980 - val_loss: 3.1442 - val_accuracy: 0.5456\n",
            "Epoch 50/100\n",
            "157/157 [==============================] - 3s 20ms/step - loss: 0.0066 - accuracy: 0.9978 - val_loss: 3.1613 - val_accuracy: 0.5462\n",
            "Epoch 51/100\n",
            "157/157 [==============================] - 3s 21ms/step - loss: 0.0057 - accuracy: 0.9980 - val_loss: 3.2144 - val_accuracy: 0.5444\n",
            "Epoch 52/100\n",
            "157/157 [==============================] - 3s 20ms/step - loss: 0.0056 - accuracy: 0.9982 - val_loss: 3.1670 - val_accuracy: 0.5449\n",
            "Epoch 53/100\n",
            "157/157 [==============================] - 3s 21ms/step - loss: 0.0058 - accuracy: 0.9981 - val_loss: 3.1960 - val_accuracy: 0.5429\n",
            "Epoch 54/100\n",
            "157/157 [==============================] - 3s 21ms/step - loss: 0.0055 - accuracy: 0.9981 - val_loss: 3.1841 - val_accuracy: 0.5462\n",
            "Epoch 55/100\n",
            "157/157 [==============================] - 3s 20ms/step - loss: 0.0054 - accuracy: 0.9980 - val_loss: 3.2321 - val_accuracy: 0.5518\n",
            "Epoch 56/100\n",
            "157/157 [==============================] - 3s 20ms/step - loss: 0.0049 - accuracy: 0.9983 - val_loss: 3.1502 - val_accuracy: 0.5521\n",
            "Epoch 57/100\n",
            "157/157 [==============================] - 3s 21ms/step - loss: 0.0056 - accuracy: 0.9979 - val_loss: 3.2138 - val_accuracy: 0.5489\n",
            "Epoch 58/100\n",
            "157/157 [==============================] - 3s 20ms/step - loss: 0.0057 - accuracy: 0.9980 - val_loss: 3.2126 - val_accuracy: 0.5477\n",
            "Epoch 59/100\n",
            "157/157 [==============================] - 3s 21ms/step - loss: 0.0053 - accuracy: 0.9979 - val_loss: 3.1776 - val_accuracy: 0.5493\n",
            "Epoch 60/100\n",
            "157/157 [==============================] - 3s 20ms/step - loss: 0.0049 - accuracy: 0.9982 - val_loss: 3.3195 - val_accuracy: 0.5441\n",
            "Epoch 61/100\n",
            "157/157 [==============================] - 3s 20ms/step - loss: 0.0053 - accuracy: 0.9980 - val_loss: 3.1736 - val_accuracy: 0.5500\n",
            "Epoch 62/100\n",
            "157/157 [==============================] - 3s 20ms/step - loss: 0.0049 - accuracy: 0.9982 - val_loss: 3.2142 - val_accuracy: 0.5408\n",
            "Epoch 63/100\n",
            "157/157 [==============================] - 3s 21ms/step - loss: 0.0049 - accuracy: 0.9980 - val_loss: 3.1588 - val_accuracy: 0.5509\n",
            "Epoch 64/100\n",
            "157/157 [==============================] - 3s 20ms/step - loss: 0.0046 - accuracy: 0.9983 - val_loss: 3.2422 - val_accuracy: 0.5528\n",
            "Epoch 65/100\n",
            "157/157 [==============================] - 3s 20ms/step - loss: 0.0050 - accuracy: 0.9978 - val_loss: 3.3345 - val_accuracy: 0.5485\n",
            "Epoch 66/100\n",
            "157/157 [==============================] - 3s 21ms/step - loss: 0.0048 - accuracy: 0.9981 - val_loss: 3.1403 - val_accuracy: 0.5488\n",
            "Epoch 67/100\n",
            "157/157 [==============================] - 3s 20ms/step - loss: 0.0046 - accuracy: 0.9980 - val_loss: 3.2241 - val_accuracy: 0.5501\n",
            "Epoch 68/100\n",
            "157/157 [==============================] - 3s 20ms/step - loss: 0.0047 - accuracy: 0.9981 - val_loss: 3.1891 - val_accuracy: 0.5486\n",
            "Epoch 69/100\n",
            "157/157 [==============================] - 3s 20ms/step - loss: 0.0043 - accuracy: 0.9982 - val_loss: 3.2228 - val_accuracy: 0.5510\n",
            "Epoch 70/100\n",
            "157/157 [==============================] - 3s 20ms/step - loss: 0.0048 - accuracy: 0.9980 - val_loss: 3.2529 - val_accuracy: 0.5485\n",
            "Epoch 71/100\n",
            "157/157 [==============================] - 3s 20ms/step - loss: 0.0046 - accuracy: 0.9981 - val_loss: 3.2289 - val_accuracy: 0.5504\n",
            "Epoch 72/100\n",
            "157/157 [==============================] - 3s 20ms/step - loss: 0.0047 - accuracy: 0.9980 - val_loss: 3.2161 - val_accuracy: 0.5413\n",
            "Epoch 73/100\n",
            "157/157 [==============================] - 3s 20ms/step - loss: 0.0043 - accuracy: 0.9981 - val_loss: 3.2125 - val_accuracy: 0.5471\n",
            "Epoch 74/100\n",
            "157/157 [==============================] - 3s 20ms/step - loss: 0.0047 - accuracy: 0.9980 - val_loss: 3.1994 - val_accuracy: 0.5524\n",
            "Epoch 75/100\n",
            "157/157 [==============================] - 3s 20ms/step - loss: 0.0048 - accuracy: 0.9979 - val_loss: 3.2086 - val_accuracy: 0.5460\n",
            "Epoch 76/100\n",
            "157/157 [==============================] - 3s 20ms/step - loss: 0.0045 - accuracy: 0.9982 - val_loss: 3.2385 - val_accuracy: 0.5441\n",
            "Epoch 77/100\n",
            "157/157 [==============================] - 3s 20ms/step - loss: 0.0043 - accuracy: 0.9983 - val_loss: 3.2094 - val_accuracy: 0.5467\n",
            "Epoch 78/100\n",
            "157/157 [==============================] - 3s 20ms/step - loss: 0.0044 - accuracy: 0.9981 - val_loss: 3.2316 - val_accuracy: 0.5509\n",
            "Epoch 79/100\n",
            "157/157 [==============================] - 3s 21ms/step - loss: 0.0043 - accuracy: 0.9982 - val_loss: 3.2107 - val_accuracy: 0.5486\n",
            "Epoch 80/100\n",
            "157/157 [==============================] - 3s 21ms/step - loss: 0.0041 - accuracy: 0.9981 - val_loss: 3.2163 - val_accuracy: 0.5489\n",
            "Epoch 81/100\n",
            "157/157 [==============================] - 3s 20ms/step - loss: 0.0041 - accuracy: 0.9983 - val_loss: 3.2632 - val_accuracy: 0.5508\n",
            "Epoch 82/100\n",
            "157/157 [==============================] - 3s 20ms/step - loss: 0.0044 - accuracy: 0.9980 - val_loss: 3.2090 - val_accuracy: 0.5501\n",
            "Epoch 83/100\n",
            "157/157 [==============================] - 3s 20ms/step - loss: 0.0042 - accuracy: 0.9981 - val_loss: 3.2260 - val_accuracy: 0.5511\n",
            "Epoch 84/100\n",
            "157/157 [==============================] - 3s 20ms/step - loss: 0.0041 - accuracy: 0.9980 - val_loss: 3.2923 - val_accuracy: 0.5500\n",
            "Epoch 85/100\n",
            "157/157 [==============================] - 3s 21ms/step - loss: 0.0040 - accuracy: 0.9983 - val_loss: 3.3115 - val_accuracy: 0.5478\n",
            "Epoch 86/100\n",
            "157/157 [==============================] - 3s 21ms/step - loss: 0.0045 - accuracy: 0.9977 - val_loss: 3.2813 - val_accuracy: 0.5460\n",
            "Epoch 87/100\n",
            "157/157 [==============================] - 3s 20ms/step - loss: 0.0042 - accuracy: 0.9982 - val_loss: 3.2882 - val_accuracy: 0.5506\n",
            "Epoch 88/100\n",
            "157/157 [==============================] - 3s 20ms/step - loss: 0.0040 - accuracy: 0.9982 - val_loss: 3.2331 - val_accuracy: 0.5473\n",
            "Epoch 89/100\n",
            "157/157 [==============================] - 3s 21ms/step - loss: 0.0043 - accuracy: 0.9978 - val_loss: 3.2606 - val_accuracy: 0.5501\n",
            "Epoch 90/100\n",
            "157/157 [==============================] - 3s 20ms/step - loss: 0.0039 - accuracy: 0.9979 - val_loss: 3.3458 - val_accuracy: 0.5521\n",
            "Epoch 91/100\n",
            "157/157 [==============================] - 3s 21ms/step - loss: 0.0043 - accuracy: 0.9979 - val_loss: 3.2809 - val_accuracy: 0.5493\n",
            "Epoch 92/100\n",
            "157/157 [==============================] - 3s 20ms/step - loss: 0.0040 - accuracy: 0.9981 - val_loss: 3.2893 - val_accuracy: 0.5479\n",
            "Epoch 93/100\n",
            "157/157 [==============================] - 3s 20ms/step - loss: 0.0041 - accuracy: 0.9980 - val_loss: 3.2313 - val_accuracy: 0.5471\n",
            "Epoch 94/100\n",
            "157/157 [==============================] - 3s 21ms/step - loss: 0.0040 - accuracy: 0.9981 - val_loss: 3.2671 - val_accuracy: 0.5489\n",
            "Epoch 95/100\n",
            "157/157 [==============================] - 3s 20ms/step - loss: 0.0038 - accuracy: 0.9982 - val_loss: 3.2750 - val_accuracy: 0.5465\n",
            "Epoch 96/100\n",
            "157/157 [==============================] - 3s 20ms/step - loss: 0.0041 - accuracy: 0.9980 - val_loss: 3.2663 - val_accuracy: 0.5515\n",
            "Epoch 97/100\n",
            "157/157 [==============================] - 3s 21ms/step - loss: 0.0039 - accuracy: 0.9980 - val_loss: 3.2472 - val_accuracy: 0.5488\n",
            "Epoch 98/100\n",
            "157/157 [==============================] - 3s 21ms/step - loss: 0.0038 - accuracy: 0.9983 - val_loss: 3.2681 - val_accuracy: 0.5485\n",
            "Epoch 99/100\n",
            "157/157 [==============================] - 3s 20ms/step - loss: 0.0039 - accuracy: 0.9979 - val_loss: 3.2738 - val_accuracy: 0.5479\n",
            "Epoch 100/100\n",
            "157/157 [==============================] - 3s 20ms/step - loss: 0.0038 - accuracy: 0.9980 - val_loss: 3.3020 - val_accuracy: 0.5495\n"
          ]
        }
      ]
    },
    {
      "cell_type": "code",
      "source": [
        "plt.plot(history.history['accuracy'])\n",
        "plt.plot(history.history['val_accuracy'])\n",
        "plt.title('Model Accuracy')\n",
        "plt.xlabel('epoch')\n",
        "plt.legend(['Train','Valition'], loc='upper left')\n",
        "plt.show()"
      ],
      "metadata": {
        "id": "mBylR1WKIwac",
        "colab": {
          "base_uri": "https://localhost:8080/",
          "height": 295
        },
        "outputId": "fd742428-585a-430d-d445-710a3705f794"
      },
      "execution_count": 8,
      "outputs": [
        {
          "output_type": "display_data",
          "data": {
            "text/plain": [
              "<Figure size 432x288 with 1 Axes>"
            ],
            "image/png": "[encoded data removed]"
          },
          "metadata": {
            "needs_background": "light"
          }
        }
      ]
    },
    {
      "cell_type": "code",
      "source": [
        "model.save('/content/drive/MyDrive/Colab Notebooks/camxuc/emotion_model.h5')"
      ],
      "metadata": {
        "id": "rGsZcNm3IytW"
      },
      "execution_count": 9,
      "outputs": []
    },
    {
      "cell_type": "code",
      "source": [
        ""
      ],
      "metadata": {
        "id": "u_taBS3lI0fz"
      },
      "execution_count": null,
      "outputs": []
    }
  ]
}