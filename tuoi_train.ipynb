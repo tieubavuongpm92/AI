{
  "nbformat": 4,
  "nbformat_minor": 0,
  "metadata": {
    "colab": {
      "name": "tuoi_train.ipynb",
      "provenance": [],
      "collapsed_sections": [],
      "mount_file_id": "12No3i0I4FYox6_1VGXcHH2riqQ8bgWQ6",
      "authorship_tag": "ABX9TyMsnTm/alr9Rl1eNx15P8Pt",
      "include_colab_link": true
    },
    "kernelspec": {
      "name": "python3",
      "display_name": "Python 3"
    },
    "language_info": {
      "name": "python"
    },
    "accelerator": "GPU"
  },
  "cells": [
    {
      "cell_type": "markdown",
      "metadata": {
        "id": "view-in-github",
        "colab_type": "text"
      },
      "source": [
        "<a href=\"https://colab.research.google.com/github/tieubavuongpm92/AI/blob/cuoikiAI/tuoi_train.ipynb\" target=\"_parent\"><img src=\"https://colab.research.google.com/assets/colab-badge.svg\" alt=\"Open In Colab\"/></a>"
      ]
    },
    {
      "cell_type": "code",
      "execution_count": null,
      "metadata": {
        "colab": {
          "base_uri": "https://localhost:8080/"
        },
        "id": "QRoorAX-HSAq",
        "outputId": "330c77fb-1431-486a-bd62-70717265faff"
      },
      "outputs": [
        {
          "output_type": "stream",
          "name": "stdout",
          "text": [
            "Drive already mounted at /content/drive; to attempt to forcibly remount, call drive.mount(\"/content/drive\", force_remount=True).\n"
          ]
        }
      ],
      "source": [
        "from google.colab import drive \n",
        "drive.mount('/content/drive')"
      ]
    },
    {
      "cell_type": "code",
      "source": [
        "from google.colab import drive\n",
        "drive.mount('/content/drive')"
      ],
      "metadata": {
        "colab": {
          "base_uri": "https://localhost:8080/"
        },
        "id": "BfzhwEkcg6Hi",
        "outputId": "54efff0c-f5c9-4d61-8946-650c3569280b"
      },
      "execution_count": 1,
      "outputs": [
        {
          "output_type": "stream",
          "name": "stdout",
          "text": [
            "Drive already mounted at /content/drive; to attempt to forcibly remount, call drive.mount(\"/content/drive\", force_remount=True).\n"
          ]
        }
      ]
    },
    {
      "cell_type": "code",
      "source": [
        "from keras import datasets, Sequential\n",
        "from keras.layers import Conv2D, Dense, MaxPooling2D, Flatten\n",
        "from keras.preprocessing import  image\n",
        "from keras.preprocessing.image import load_img, img_to_array,array_to_img,ImageDataGenerator\n",
        "import matplotlib.pyplot as plt\n",
        "import seaborn as sns\n",
        "import numpy as np\n",
        "from numpy import asarray\n",
        "from numpy import save\n",
        "import keras\n",
        "import os\n",
        "from os import listdir\n",
        "import cv2 as cv\n",
        "import tensorflow as tf\n",
        "from tensorflow.keras.optimizers import Adam, SGD\n",
        "from sklearn.model_selection import train_test_split"
      ],
      "metadata": {
        "id": "Fn4Mh-sWHmt9"
      },
      "execution_count": 2,
      "outputs": []
    },
    {
      "cell_type": "code",
      "source": [
        "folder  = '/content/drive/MyDrive/Colab Notebooks/age (1)/dataset/1'\n",
        "folder1  = '/content/drive/MyDrive/Colab Notebooks/age (1)/dataset/2'\n",
        "folder2  = '/content/drive/MyDrive/Colab Notebooks/age (1)/dataset/3'\n",
        "folder3  = '/content/drive/MyDrive/Colab Notebooks/age (1)/dataset/4'\n",
        "folder4  = '/content/drive/MyDrive/Colab Notebooks/age (1)/dataset/5'\n",
        "folder5  = '/content/drive/MyDrive/Colab Notebooks/age (1)/dataset/6'\n",
        "folder6  = '/content/drive/MyDrive/Colab Notebooks/age (1)/dataset/7'\n",
        "folder7  = '/content/drive/MyDrive/Colab Notebooks/age (1)/dataset/8'\n",
        "folder8  = '/content/drive/MyDrive/Colab Notebooks/age (1)/dataset/9'\n",
        "folder9  = '/content/drive/MyDrive/Colab Notebooks/age (1)/dataset/10'\n",
        "folder10  = '/content/drive/MyDrive/Colab Notebooks/age (1)/dataset/11'\n",
        "folder11  = '/content/drive/MyDrive/Colab Notebooks/age (1)/dataset/12'\n",
        "folder12  = '/content/drive/MyDrive/Colab Notebooks/age (1)/dataset/13'\n",
        "folder13  = '/content/drive/MyDrive/Colab Notebooks/age (1)/dataset/14'\n",
        "folder14  = '/content/drive/MyDrive/Colab Notebooks/age (1)/dataset/15'\n",
        "folder15  = '/content/drive/MyDrive/Colab Notebooks/age (1)/dataset/16'\n",
        "folder16  = '/content/drive/MyDrive/Colab Notebooks/age (1)/dataset/17'\n",
        "folder17  = '/content/drive/MyDrive/Colab Notebooks/age (1)/dataset/18'\n",
        "folder18  = '/content/drive/MyDrive/Colab Notebooks/age (1)/dataset/19'\n",
        "folder19  = '/content/drive/MyDrive/Colab Notebooks/age (1)/dataset/20'\n",
        "folder20  = '/content/drive/MyDrive/Colab Notebooks/age (1)/dataset/21'\n",
        "folder21  = '/content/drive/MyDrive/Colab Notebooks/age (1)/dataset/22'\n",
        "folder22  = '/content/drive/MyDrive/Colab Notebooks/age (1)/dataset/23'\n",
        "folder23  = '/content/drive/MyDrive/Colab Notebooks/age (1)/dataset/24'\n",
        "folder24  = '/content/drive/MyDrive/Colab Notebooks/age (1)/dataset/25'\n",
        "folder25  = '/content/drive/MyDrive/Colab Notebooks/age (1)/dataset/26'\n",
        "folder26  = '/content/drive/MyDrive/Colab Notebooks/age (1)/dataset/27'\n",
        "folder27  = '/content/drive/MyDrive/Colab Notebooks/age (1)/dataset/28'\n",
        "folder28  = '/content/drive/MyDrive/Colab Notebooks/age (1)/dataset/29'\n",
        "folder29  = '/content/drive/MyDrive/Colab Notebooks/age (1)/dataset/30'\n",
        "folder30  = '/content/drive/MyDrive/Colab Notebooks/age (1)/dataset/31'\n",
        "folder31  = '/content/drive/MyDrive/Colab Notebooks/age (1)/dataset/32'\n",
        "folder32  = '/content/drive/MyDrive/Colab Notebooks/age (1)/dataset/33'\n",
        "folder33  = '/content/drive/MyDrive/Colab Notebooks/age (1)/dataset/34'\n",
        "folder34  = '/content/drive/MyDrive/Colab Notebooks/age (1)/dataset/35'\n",
        "folder35  = '/content/drive/MyDrive/Colab Notebooks/age (1)/dataset/36'\n",
        "folder36  = '/content/drive/MyDrive/Colab Notebooks/age (1)/dataset/37'\n",
        "folder37  = '/content/drive/MyDrive/Colab Notebooks/age (1)/dataset/38'\n",
        "folder38  = '/content/drive/MyDrive/Colab Notebooks/age (1)/dataset/39'\n",
        "folder39  = '/content/drive/MyDrive/Colab Notebooks/age (1)/dataset/40'\n",
        "folder40  = '/content/drive/MyDrive/Colab Notebooks/age (1)/dataset/41'\n",
        "folder41  = '/content/drive/MyDrive/Colab Notebooks/age (1)/dataset/42'\n",
        "folder42  = '/content/drive/MyDrive/Colab Notebooks/age (1)/dataset/43'\n",
        "folder43  = '/content/drive/MyDrive/Colab Notebooks/age (1)/dataset/44'\n",
        "folder44  = '/content/drive/MyDrive/Colab Notebooks/age (1)/dataset/45'\n",
        "folder45  = '/content/drive/MyDrive/Colab Notebooks/age (1)/dataset/46'\n",
        "folder46  = '/content/drive/MyDrive/Colab Notebooks/age (1)/dataset/47'\n",
        "folder47  = '/content/drive/MyDrive/Colab Notebooks/age (1)/dataset/48'\n",
        "folder48  = '/content/drive/MyDrive/Colab Notebooks/age (1)/dataset/49'\n",
        "folder49  = '/content/drive/MyDrive/Colab Notebooks/age (1)/dataset/50'\n",
        "\n",
        "folders=[folder,folder1,folder2,folder3,folder4,folder5,folder6,folder7,folder8,folder9,folder10,\n",
        "         folder11,folder12,folder13,folder14,folder15,folder16,folder17,folder18,folder19,folder20,\n",
        "         folder21,folder22,folder23,folder24,folder25,folder26,folder27,folder28,folder29,folder30,\n",
        "         folder31,folder32,folder33,folder34,folder35,folder36,folder37,folder38,folder39,folder40,\n",
        "         folder41,folder42,folder43,folder44,folder45,folder46,folder47,folder48,folder49]\n",
        "photos, labels = list(), list()\n",
        "for i in range (50):\n",
        "  for file in listdir(folders[i]):\n",
        "    output=i\n",
        "\n",
        "    photo = load_img(folders[i]+'/'+file, target_size=(48,48))\n",
        "    photo = img_to_array(photo)\n",
        "    photos.append(photo)\n",
        "    labels.append(output)\n",
        "photos = asarray(photos)\n",
        "labels = asarray(labels)\n",
        "print(photos.shape, labels.shape)\n",
        "save('/content/drive/MyDrive/Colab Notebooks/age (1)/age_photos.npy',photos)\n",
        "save('/content/drive/MyDrive/Colab Notebooks/age (1)/age_labels.npy',labels)"
      ],
      "metadata": {
        "id": "MjNKyjqFHoos",
        "colab": {
          "base_uri": "https://localhost:8080/"
        },
        "outputId": "9ced1da6-41c2-48ca-a9de-17ff761c6d6c"
      },
      "execution_count": 3,
      "outputs": [
        {
          "output_type": "stream",
          "name": "stdout",
          "text": [
            "(13986, 48, 48, 3) (13986,)\n"
          ]
        }
      ]
    },
    {
      "cell_type": "code",
      "source": [
        "x_train, x_test, y_train, y_test = train_test_split(photos, labels, test_size=0.3, random_state=2)\n",
        "x_train /= 255\n",
        "x_test /= 255\n",
        "y_train = keras.utils.np_utils.to_categorical(y_train)\n",
        "y_test = keras.utils.np_utils.to_categorical(y_test)"
      ],
      "metadata": {
        "id": "Q201LDJFHr1h"
      },
      "execution_count": 4,
      "outputs": []
    },
    {
      "cell_type": "code",
      "source": [
        "#tạo model\n",
        "model = Sequential()\n",
        "model.add(Conv2D(32,(3,3), activation = 'relu', kernel_initializer='he_uniform',padding='same',input_shape=(48,48,3)))\n",
        "model.add(MaxPooling2D((2,2)))\n",
        "\n",
        "model.add(Conv2D(64,(3,3), activation = 'relu', kernel_initializer='he_uniform',padding='same'))\n",
        "model.add(MaxPooling2D((2,2)))\n",
        "\n",
        "model.add(Conv2D(128,(3,3), activation = 'relu', kernel_initializer='he_uniform',padding='same'))\n",
        "model.add(MaxPooling2D((2,2)))\n",
        "\n",
        "model.add(Conv2D(512,(3,3), activation = 'relu', kernel_initializer='he_uniform',padding='same'))\n",
        "model.add(MaxPooling2D((2,2)))\n",
        "model.add(Flatten())\n",
        "model.add(Dense(512, activation='relu', kernel_initializer='he_uniform'))  #Dense la full connected \n",
        "model.add(Dense(50, activation='Softmax'))\n",
        "model.summary()"
      ],
      "metadata": {
        "id": "ZaYwc99oHtHj",
        "colab": {
          "base_uri": "https://localhost:8080/"
        },
        "outputId": "a92f0c8a-b29c-46cc-edaa-f00a9d7a0569"
      },
      "execution_count": 5,
      "outputs": [
        {
          "output_type": "stream",
          "name": "stdout",
          "text": [
            "Model: \"sequential\"\n",
            "_________________________________________________________________\n",
            " Layer (type)                Output Shape              Param #   \n",
            "=================================================================\n",
            " conv2d (Conv2D)             (None, 48, 48, 32)        896       \n",
            "                                                                 \n",
            " max_pooling2d (MaxPooling2D  (None, 24, 24, 32)       0         \n",
            " )                                                               \n",
            "                                                                 \n",
            " conv2d_1 (Conv2D)           (None, 24, 24, 64)        18496     \n",
            "                                                                 \n",
            " max_pooling2d_1 (MaxPooling  (None, 12, 12, 64)       0         \n",
            " 2D)                                                             \n",
            "                                                                 \n",
            " conv2d_2 (Conv2D)           (None, 12, 12, 128)       73856     \n",
            "                                                                 \n",
            " max_pooling2d_2 (MaxPooling  (None, 6, 6, 128)        0         \n",
            " 2D)                                                             \n",
            "                                                                 \n",
            " conv2d_3 (Conv2D)           (None, 6, 6, 512)         590336    \n",
            "                                                                 \n",
            " max_pooling2d_3 (MaxPooling  (None, 3, 3, 512)        0         \n",
            " 2D)                                                             \n",
            "                                                                 \n",
            " flatten (Flatten)           (None, 4608)              0         \n",
            "                                                                 \n",
            " dense (Dense)               (None, 512)               2359808   \n",
            "                                                                 \n",
            " dense_1 (Dense)             (None, 50)                25650     \n",
            "                                                                 \n",
            "=================================================================\n",
            "Total params: 3,069,042\n",
            "Trainable params: 3,069,042\n",
            "Non-trainable params: 0\n",
            "_________________________________________________________________\n"
          ]
        }
      ]
    },
    {
      "cell_type": "code",
      "source": [
        "opt = SGD(lr=0.01, momentum=0.9)\n",
        "model.compile(optimizer=opt,loss='categorical_crossentropy',  metrics=['accuracy'])"
      ],
      "metadata": {
        "id": "3jM8nxFGHwRA",
        "colab": {
          "base_uri": "https://localhost:8080/"
        },
        "outputId": "69f03b8b-d59b-4b81-d791-72f882eeb935"
      },
      "execution_count": 6,
      "outputs": [
        {
          "output_type": "stream",
          "name": "stderr",
          "text": [
            "/usr/local/lib/python3.7/dist-packages/keras/optimizer_v2/gradient_descent.py:102: UserWarning: The `lr` argument is deprecated, use `learning_rate` instead.\n",
            "  super(SGD, self).__init__(name, **kwargs)\n"
          ]
        }
      ]
    },
    {
      "cell_type": "code",
      "source": [
        "history = model.fit(x_train, y_train, batch_size=128, epochs=100, verbose=1,validation_data=(x_test, y_test))"
      ],
      "metadata": {
        "id": "4-YERdYgHxog",
        "colab": {
          "base_uri": "https://localhost:8080/"
        },
        "outputId": "ded4b06e-427d-43a3-ce3c-cca94f2d16b1"
      },
      "execution_count": 7,
      "outputs": [
        {
          "output_type": "stream",
          "name": "stdout",
          "text": [
            "Epoch 1/100\n",
            "77/77 [==============================] - 14s 32ms/step - loss: 3.6711 - accuracy: 0.0888 - val_loss: 3.6110 - val_accuracy: 0.1013\n",
            "Epoch 2/100\n",
            "77/77 [==============================] - 1s 19ms/step - loss: 3.4868 - accuracy: 0.1207 - val_loss: 3.3779 - val_accuracy: 0.1380\n",
            "Epoch 3/100\n",
            "77/77 [==============================] - 2s 20ms/step - loss: 3.3123 - accuracy: 0.1371 - val_loss: 3.3168 - val_accuracy: 0.1387\n",
            "Epoch 4/100\n",
            "77/77 [==============================] - 2s 20ms/step - loss: 3.1853 - accuracy: 0.1448 - val_loss: 3.2054 - val_accuracy: 0.1420\n",
            "Epoch 5/100\n",
            "77/77 [==============================] - 2s 20ms/step - loss: 3.0929 - accuracy: 0.1635 - val_loss: 3.1706 - val_accuracy: 0.1461\n",
            "Epoch 6/100\n",
            "77/77 [==============================] - 2s 20ms/step - loss: 3.0162 - accuracy: 0.1727 - val_loss: 3.1063 - val_accuracy: 0.1487\n",
            "Epoch 7/100\n",
            "77/77 [==============================] - 2s 20ms/step - loss: 2.9348 - accuracy: 0.1837 - val_loss: 3.0968 - val_accuracy: 0.1485\n",
            "Epoch 8/100\n",
            "77/77 [==============================] - 2s 20ms/step - loss: 2.8511 - accuracy: 0.2011 - val_loss: 3.1035 - val_accuracy: 0.1499\n",
            "Epoch 9/100\n",
            "77/77 [==============================] - 2s 20ms/step - loss: 2.7476 - accuracy: 0.2258 - val_loss: 3.1112 - val_accuracy: 0.1287\n",
            "Epoch 10/100\n",
            "77/77 [==============================] - 2s 20ms/step - loss: 2.6365 - accuracy: 0.2508 - val_loss: 3.1627 - val_accuracy: 0.1423\n",
            "Epoch 11/100\n",
            "77/77 [==============================] - 2s 20ms/step - loss: 2.5264 - accuracy: 0.2770 - val_loss: 3.3066 - val_accuracy: 0.1447\n",
            "Epoch 12/100\n",
            "77/77 [==============================] - 2s 19ms/step - loss: 2.3728 - accuracy: 0.3056 - val_loss: 3.2372 - val_accuracy: 0.1416\n",
            "Epoch 13/100\n",
            "77/77 [==============================] - 2s 20ms/step - loss: 2.1746 - accuracy: 0.3658 - val_loss: 3.2943 - val_accuracy: 0.1366\n",
            "Epoch 14/100\n",
            "77/77 [==============================] - 2s 20ms/step - loss: 1.9648 - accuracy: 0.4267 - val_loss: 3.4147 - val_accuracy: 0.1444\n",
            "Epoch 15/100\n",
            "77/77 [==============================] - 2s 20ms/step - loss: 1.7068 - accuracy: 0.4982 - val_loss: 3.7418 - val_accuracy: 0.1459\n",
            "Epoch 16/100\n",
            "77/77 [==============================] - 1s 19ms/step - loss: 1.4508 - accuracy: 0.5689 - val_loss: 4.0487 - val_accuracy: 0.1265\n",
            "Epoch 17/100\n",
            "77/77 [==============================] - 2s 20ms/step - loss: 1.1282 - accuracy: 0.6670 - val_loss: 4.2846 - val_accuracy: 0.1382\n",
            "Epoch 18/100\n",
            "77/77 [==============================] - 2s 20ms/step - loss: 0.8878 - accuracy: 0.7318 - val_loss: 4.6597 - val_accuracy: 0.1342\n",
            "Epoch 19/100\n",
            "77/77 [==============================] - 2s 20ms/step - loss: 0.6964 - accuracy: 0.7898 - val_loss: 4.8506 - val_accuracy: 0.1316\n",
            "Epoch 20/100\n",
            "77/77 [==============================] - 2s 20ms/step - loss: 0.5069 - accuracy: 0.8542 - val_loss: 5.6863 - val_accuracy: 0.1387\n",
            "Epoch 21/100\n",
            "77/77 [==============================] - 2s 20ms/step - loss: 0.4193 - accuracy: 0.8826 - val_loss: 6.0895 - val_accuracy: 0.1411\n",
            "Epoch 22/100\n",
            "77/77 [==============================] - 2s 20ms/step - loss: 0.3292 - accuracy: 0.9138 - val_loss: 5.8154 - val_accuracy: 0.1299\n",
            "Epoch 23/100\n",
            "77/77 [==============================] - 2s 20ms/step - loss: 0.2834 - accuracy: 0.9314 - val_loss: 6.0907 - val_accuracy: 0.1296\n",
            "Epoch 24/100\n",
            "77/77 [==============================] - 2s 20ms/step - loss: 0.2255 - accuracy: 0.9477 - val_loss: 5.9776 - val_accuracy: 0.1354\n",
            "Epoch 25/100\n",
            "77/77 [==============================] - 2s 20ms/step - loss: 0.1928 - accuracy: 0.9596 - val_loss: 6.0831 - val_accuracy: 0.1275\n",
            "Epoch 26/100\n",
            "77/77 [==============================] - 2s 21ms/step - loss: 0.1634 - accuracy: 0.9673 - val_loss: 6.6132 - val_accuracy: 0.1223\n",
            "Epoch 27/100\n",
            "77/77 [==============================] - 2s 21ms/step - loss: 0.1633 - accuracy: 0.9683 - val_loss: 5.9249 - val_accuracy: 0.1373\n",
            "Epoch 28/100\n",
            "77/77 [==============================] - 2s 20ms/step - loss: 0.1295 - accuracy: 0.9772 - val_loss: 6.2229 - val_accuracy: 0.1423\n",
            "Epoch 29/100\n",
            "77/77 [==============================] - 2s 20ms/step - loss: 0.1258 - accuracy: 0.9766 - val_loss: 6.1971 - val_accuracy: 0.1358\n",
            "Epoch 30/100\n",
            "77/77 [==============================] - 2s 21ms/step - loss: 0.1280 - accuracy: 0.9745 - val_loss: 6.0448 - val_accuracy: 0.1287\n",
            "Epoch 31/100\n",
            "77/77 [==============================] - 2s 20ms/step - loss: 0.1069 - accuracy: 0.9800 - val_loss: 6.2379 - val_accuracy: 0.1337\n",
            "Epoch 32/100\n",
            "77/77 [==============================] - 2s 20ms/step - loss: 0.1046 - accuracy: 0.9813 - val_loss: 5.9923 - val_accuracy: 0.1397\n",
            "Epoch 33/100\n",
            "77/77 [==============================] - 2s 20ms/step - loss: 0.0887 - accuracy: 0.9834 - val_loss: 5.9471 - val_accuracy: 0.1339\n",
            "Epoch 34/100\n",
            "77/77 [==============================] - 2s 20ms/step - loss: 0.0856 - accuracy: 0.9842 - val_loss: 5.7914 - val_accuracy: 0.1349\n",
            "Epoch 35/100\n",
            "77/77 [==============================] - 2s 20ms/step - loss: 0.0840 - accuracy: 0.9848 - val_loss: 6.0448 - val_accuracy: 0.1432\n",
            "Epoch 36/100\n",
            "77/77 [==============================] - 2s 20ms/step - loss: 0.0741 - accuracy: 0.9859 - val_loss: 5.8747 - val_accuracy: 0.1389\n",
            "Epoch 37/100\n",
            "77/77 [==============================] - 2s 21ms/step - loss: 0.0735 - accuracy: 0.9864 - val_loss: 6.0068 - val_accuracy: 0.1397\n",
            "Epoch 38/100\n",
            "77/77 [==============================] - 2s 20ms/step - loss: 0.0663 - accuracy: 0.9869 - val_loss: 5.9280 - val_accuracy: 0.1356\n",
            "Epoch 39/100\n",
            "77/77 [==============================] - 2s 20ms/step - loss: 0.0619 - accuracy: 0.9882 - val_loss: 5.8404 - val_accuracy: 0.1332\n",
            "Epoch 40/100\n",
            "77/77 [==============================] - 2s 20ms/step - loss: 0.0561 - accuracy: 0.9889 - val_loss: 5.6847 - val_accuracy: 0.1385\n",
            "Epoch 41/100\n",
            "77/77 [==============================] - 2s 20ms/step - loss: 0.0486 - accuracy: 0.9888 - val_loss: 5.8120 - val_accuracy: 0.1399\n",
            "Epoch 42/100\n",
            "77/77 [==============================] - 2s 20ms/step - loss: 0.0447 - accuracy: 0.9900 - val_loss: 5.9792 - val_accuracy: 0.1420\n",
            "Epoch 43/100\n",
            "77/77 [==============================] - 2s 21ms/step - loss: 0.0496 - accuracy: 0.9893 - val_loss: 5.7976 - val_accuracy: 0.1435\n",
            "Epoch 44/100\n",
            "77/77 [==============================] - 2s 20ms/step - loss: 0.0495 - accuracy: 0.9894 - val_loss: 5.6059 - val_accuracy: 0.1404\n",
            "Epoch 45/100\n",
            "77/77 [==============================] - 2s 20ms/step - loss: 0.0456 - accuracy: 0.9897 - val_loss: 5.7814 - val_accuracy: 0.1358\n",
            "Epoch 46/100\n",
            "77/77 [==============================] - 2s 20ms/step - loss: 0.0438 - accuracy: 0.9900 - val_loss: 5.8842 - val_accuracy: 0.1378\n",
            "Epoch 47/100\n",
            "77/77 [==============================] - 2s 20ms/step - loss: 0.0437 - accuracy: 0.9903 - val_loss: 5.7205 - val_accuracy: 0.1351\n",
            "Epoch 48/100\n",
            "77/77 [==============================] - 2s 20ms/step - loss: 0.0385 - accuracy: 0.9908 - val_loss: 5.8584 - val_accuracy: 0.1478\n",
            "Epoch 49/100\n",
            "77/77 [==============================] - 2s 20ms/step - loss: 0.0342 - accuracy: 0.9915 - val_loss: 5.6739 - val_accuracy: 0.1406\n",
            "Epoch 50/100\n",
            "77/77 [==============================] - 2s 20ms/step - loss: 0.0349 - accuracy: 0.9913 - val_loss: 5.9632 - val_accuracy: 0.1301\n",
            "Epoch 51/100\n",
            "77/77 [==============================] - 2s 20ms/step - loss: 0.0403 - accuracy: 0.9907 - val_loss: 5.7613 - val_accuracy: 0.1413\n",
            "Epoch 52/100\n",
            "77/77 [==============================] - 2s 20ms/step - loss: 0.0311 - accuracy: 0.9927 - val_loss: 5.7531 - val_accuracy: 0.1330\n",
            "Epoch 53/100\n",
            "77/77 [==============================] - 2s 20ms/step - loss: 0.0313 - accuracy: 0.9925 - val_loss: 5.8807 - val_accuracy: 0.1442\n",
            "Epoch 54/100\n",
            "77/77 [==============================] - 2s 20ms/step - loss: 0.0296 - accuracy: 0.9921 - val_loss: 5.8030 - val_accuracy: 0.1342\n",
            "Epoch 55/100\n",
            "77/77 [==============================] - 2s 20ms/step - loss: 0.0294 - accuracy: 0.9924 - val_loss: 5.8380 - val_accuracy: 0.1420\n",
            "Epoch 56/100\n",
            "77/77 [==============================] - 2s 20ms/step - loss: 0.0283 - accuracy: 0.9918 - val_loss: 5.6758 - val_accuracy: 0.1373\n",
            "Epoch 57/100\n",
            "77/77 [==============================] - 2s 20ms/step - loss: 0.0322 - accuracy: 0.9919 - val_loss: 5.8628 - val_accuracy: 0.1385\n",
            "Epoch 58/100\n",
            "77/77 [==============================] - 2s 20ms/step - loss: 0.0282 - accuracy: 0.9925 - val_loss: 5.7975 - val_accuracy: 0.1332\n",
            "Epoch 59/100\n",
            "77/77 [==============================] - 2s 20ms/step - loss: 0.0276 - accuracy: 0.9926 - val_loss: 5.7761 - val_accuracy: 0.1435\n",
            "Epoch 60/100\n",
            "77/77 [==============================] - 2s 20ms/step - loss: 0.0284 - accuracy: 0.9933 - val_loss: 5.6498 - val_accuracy: 0.1437\n",
            "Epoch 61/100\n",
            "77/77 [==============================] - 2s 20ms/step - loss: 0.0266 - accuracy: 0.9925 - val_loss: 5.7753 - val_accuracy: 0.1437\n",
            "Epoch 62/100\n",
            "77/77 [==============================] - 2s 20ms/step - loss: 0.0254 - accuracy: 0.9918 - val_loss: 5.8720 - val_accuracy: 0.1432\n",
            "Epoch 63/100\n",
            "77/77 [==============================] - 2s 20ms/step - loss: 0.0267 - accuracy: 0.9918 - val_loss: 5.7010 - val_accuracy: 0.1397\n",
            "Epoch 64/100\n",
            "77/77 [==============================] - 2s 20ms/step - loss: 0.0231 - accuracy: 0.9928 - val_loss: 5.8238 - val_accuracy: 0.1404\n",
            "Epoch 65/100\n",
            "77/77 [==============================] - 2s 20ms/step - loss: 0.0250 - accuracy: 0.9921 - val_loss: 5.9142 - val_accuracy: 0.1411\n",
            "Epoch 66/100\n",
            "77/77 [==============================] - 2s 20ms/step - loss: 0.0238 - accuracy: 0.9925 - val_loss: 5.8650 - val_accuracy: 0.1442\n",
            "Epoch 67/100\n",
            "77/77 [==============================] - 2s 21ms/step - loss: 0.0234 - accuracy: 0.9923 - val_loss: 5.7671 - val_accuracy: 0.1394\n",
            "Epoch 68/100\n",
            "77/77 [==============================] - 2s 20ms/step - loss: 0.0219 - accuracy: 0.9934 - val_loss: 5.7728 - val_accuracy: 0.1408\n",
            "Epoch 69/100\n",
            "77/77 [==============================] - 2s 20ms/step - loss: 0.0228 - accuracy: 0.9930 - val_loss: 5.7863 - val_accuracy: 0.1406\n",
            "Epoch 70/100\n",
            "77/77 [==============================] - 2s 20ms/step - loss: 0.0215 - accuracy: 0.9930 - val_loss: 5.7782 - val_accuracy: 0.1397\n",
            "Epoch 71/100\n",
            "77/77 [==============================] - 2s 20ms/step - loss: 0.0180 - accuracy: 0.9941 - val_loss: 6.0841 - val_accuracy: 0.1435\n",
            "Epoch 72/100\n",
            "77/77 [==============================] - 2s 21ms/step - loss: 0.0223 - accuracy: 0.9933 - val_loss: 5.8045 - val_accuracy: 0.1425\n",
            "Epoch 73/100\n",
            "77/77 [==============================] - 2s 21ms/step - loss: 0.0209 - accuracy: 0.9936 - val_loss: 5.7066 - val_accuracy: 0.1416\n",
            "Epoch 74/100\n",
            "77/77 [==============================] - 2s 20ms/step - loss: 0.0204 - accuracy: 0.9933 - val_loss: 5.7957 - val_accuracy: 0.1459\n",
            "Epoch 75/100\n",
            "77/77 [==============================] - 2s 20ms/step - loss: 0.0182 - accuracy: 0.9941 - val_loss: 5.8082 - val_accuracy: 0.1418\n",
            "Epoch 76/100\n",
            "77/77 [==============================] - 2s 20ms/step - loss: 0.0201 - accuracy: 0.9936 - val_loss: 5.7545 - val_accuracy: 0.1358\n",
            "Epoch 77/100\n",
            "77/77 [==============================] - 2s 20ms/step - loss: 0.0173 - accuracy: 0.9943 - val_loss: 5.8404 - val_accuracy: 0.1466\n",
            "Epoch 78/100\n",
            "77/77 [==============================] - 2s 20ms/step - loss: 0.0165 - accuracy: 0.9942 - val_loss: 5.8725 - val_accuracy: 0.1382\n",
            "Epoch 79/100\n",
            "77/77 [==============================] - 2s 20ms/step - loss: 0.0157 - accuracy: 0.9946 - val_loss: 5.9337 - val_accuracy: 0.1459\n",
            "Epoch 80/100\n",
            "77/77 [==============================] - 2s 20ms/step - loss: 0.0197 - accuracy: 0.9938 - val_loss: 5.9809 - val_accuracy: 0.1449\n",
            "Epoch 81/100\n",
            "77/77 [==============================] - 2s 20ms/step - loss: 0.0204 - accuracy: 0.9937 - val_loss: 5.9637 - val_accuracy: 0.1392\n",
            "Epoch 82/100\n",
            "77/77 [==============================] - 2s 21ms/step - loss: 0.0183 - accuracy: 0.9934 - val_loss: 5.7985 - val_accuracy: 0.1411\n",
            "Epoch 83/100\n",
            "77/77 [==============================] - 2s 20ms/step - loss: 0.0173 - accuracy: 0.9938 - val_loss: 5.7967 - val_accuracy: 0.1442\n",
            "Epoch 84/100\n",
            "77/77 [==============================] - 2s 20ms/step - loss: 0.0174 - accuracy: 0.9937 - val_loss: 5.8305 - val_accuracy: 0.1397\n",
            "Epoch 85/100\n",
            "77/77 [==============================] - 2s 20ms/step - loss: 0.0182 - accuracy: 0.9934 - val_loss: 5.9196 - val_accuracy: 0.1394\n",
            "Epoch 86/100\n",
            "77/77 [==============================] - 2s 20ms/step - loss: 0.0186 - accuracy: 0.9925 - val_loss: 5.7900 - val_accuracy: 0.1451\n",
            "Epoch 87/100\n",
            "77/77 [==============================] - 2s 20ms/step - loss: 0.0162 - accuracy: 0.9939 - val_loss: 5.9266 - val_accuracy: 0.1413\n",
            "Epoch 88/100\n",
            "77/77 [==============================] - 2s 20ms/step - loss: 0.0170 - accuracy: 0.9944 - val_loss: 5.8144 - val_accuracy: 0.1378\n",
            "Epoch 89/100\n",
            "77/77 [==============================] - 2s 20ms/step - loss: 0.0170 - accuracy: 0.9932 - val_loss: 5.7398 - val_accuracy: 0.1380\n",
            "Epoch 90/100\n",
            "77/77 [==============================] - 2s 20ms/step - loss: 0.0157 - accuracy: 0.9939 - val_loss: 5.9251 - val_accuracy: 0.1408\n",
            "Epoch 91/100\n",
            "77/77 [==============================] - 2s 20ms/step - loss: 0.0148 - accuracy: 0.9943 - val_loss: 5.8969 - val_accuracy: 0.1392\n",
            "Epoch 92/100\n",
            "77/77 [==============================] - 2s 21ms/step - loss: 0.0162 - accuracy: 0.9937 - val_loss: 5.8059 - val_accuracy: 0.1444\n",
            "Epoch 93/100\n",
            "77/77 [==============================] - 2s 20ms/step - loss: 0.0148 - accuracy: 0.9944 - val_loss: 5.8489 - val_accuracy: 0.1408\n",
            "Epoch 94/100\n",
            "77/77 [==============================] - 2s 20ms/step - loss: 0.0161 - accuracy: 0.9937 - val_loss: 5.7431 - val_accuracy: 0.1423\n",
            "Epoch 95/100\n",
            "77/77 [==============================] - 2s 20ms/step - loss: 0.0154 - accuracy: 0.9939 - val_loss: 5.9477 - val_accuracy: 0.1442\n",
            "Epoch 96/100\n",
            "77/77 [==============================] - 2s 20ms/step - loss: 0.0157 - accuracy: 0.9938 - val_loss: 5.7725 - val_accuracy: 0.1444\n",
            "Epoch 97/100\n",
            "77/77 [==============================] - 2s 20ms/step - loss: 0.0133 - accuracy: 0.9943 - val_loss: 6.0681 - val_accuracy: 0.1401\n",
            "Epoch 98/100\n",
            "77/77 [==============================] - 2s 20ms/step - loss: 0.0138 - accuracy: 0.9945 - val_loss: 5.9777 - val_accuracy: 0.1425\n",
            "Epoch 99/100\n",
            "77/77 [==============================] - 2s 20ms/step - loss: 0.0137 - accuracy: 0.9940 - val_loss: 5.9091 - val_accuracy: 0.1428\n",
            "Epoch 100/100\n",
            "77/77 [==============================] - 2s 20ms/step - loss: 0.0155 - accuracy: 0.9940 - val_loss: 5.8778 - val_accuracy: 0.1430\n"
          ]
        }
      ]
    },
    {
      "cell_type": "code",
      "source": [
        "plt.plot(history.history['accuracy'])\n",
        "plt.plot(history.history['val_accuracy'])\n",
        "plt.title('Model Accuracy')\n",
        "plt.xlabel('epoch')\n",
        "plt.legend(['Train','Valition'], loc='upper left')\n",
        "plt.show()"
      ],
      "metadata": {
        "id": "KnY_EfckHzbl",
        "colab": {
          "base_uri": "https://localhost:8080/",
          "height": 295
        },
        "outputId": "9ca02d42-dd67-45f0-f2dc-d073d069c888"
      },
      "execution_count": 8,
      "outputs": [
        {
          "output_type": "display_data",
          "data": {
            "text/plain": [
              "<Figure size 432x288 with 1 Axes>"
            ],
            "image/png": "[encoded data removed]"
          },
          "metadata": {
            "needs_background": "light"
          }
        }
      ]
    },
    {
      "cell_type": "code",
      "source": [
        "model.save('/content/drive/MyDrive/Colab Notebooks/age (1)/age_model.h5')"
      ],
      "metadata": {
        "id": "1zM6vMNnH1yu"
      },
      "execution_count": 9,
      "outputs": []
    }
  ]
}